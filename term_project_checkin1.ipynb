{
 "cells": [
  {
   "cell_type": "code",
   "execution_count": 9,
   "id": "66136ad6",
   "metadata": {},
   "outputs": [],
   "source": [
    "import pandas as pd\n",
    "import requests as rq\n",
    "house_prediction_data_url = 'https://raw.githubusercontent.com/bursteinalan/Data-Sets/master/Housing/House%20Prediction%20Data.csv'\n",
    "r = rq.get(house_prediction_data_url)\n",
    "fo = open('Term_Project_kdgarg_ksapra/house_prediction_data.csv', 'wb')\n",
    "fo.write(r.content)\n",
    "fo.close()"
   ]
  },
  {
   "cell_type": "code",
   "execution_count": 10,
   "id": "c5bd11cb",
   "metadata": {},
   "outputs": [],
   "source": [
    "data_description_url = 'https://raw.githubusercontent.com/bursteinalan/Data-Sets/master/Housing/data_description.txt'\n",
    "r2 = rq.get(data_description_url)\n",
    "fo = open('Term_Project_kdgarg_ksapra/data_description.txt', 'wb')\n",
    "fo.write(r2.content)\n",
    "fo.close()"
   ]
  },
  {
   "cell_type": "code",
   "execution_count": null,
   "id": "44ce1d17",
   "metadata": {},
   "outputs": [],
   "source": []
  }
 ],
 "metadata": {
  "kernelspec": {
   "display_name": "Python 3",
   "language": "python",
   "name": "python3"
  },
  "language_info": {
   "codemirror_mode": {
    "name": "ipython",
    "version": 3
   },
   "file_extension": ".py",
   "mimetype": "text/x-python",
   "name": "python",
   "nbconvert_exporter": "python",
   "pygments_lexer": "ipython3",
   "version": "3.8.8"
  }
 },
 "nbformat": 4,
 "nbformat_minor": 5
}
